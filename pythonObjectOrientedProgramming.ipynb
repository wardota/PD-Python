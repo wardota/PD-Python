{
  "nbformat": 4,
  "nbformat_minor": 0,
  "metadata": {
    "colab": {
      "provenance": [],
      "authorship_tag": "ABX9TyMhfKhweU+1Tg8871Ts9MdS",
      "include_colab_link": true
    },
    "kernelspec": {
      "name": "python3",
      "display_name": "Python 3"
    },
    "language_info": {
      "name": "python"
    }
  },
  "cells": [
    {
      "cell_type": "markdown",
      "metadata": {
        "id": "view-in-github",
        "colab_type": "text"
      },
      "source": [
        "<a href=\"https://colab.research.google.com/github/wardota/PD-Python/blob/main/pythonObjectOrientedProgramming.ipynb\" target=\"_parent\"><img src=\"https://colab.research.google.com/assets/colab-badge.svg\" alt=\"Open In Colab\"/></a>"
      ]
    },
    {
      "cell_type": "code",
      "execution_count": null,
      "metadata": {
        "id": "wdtqFcatHltn"
      },
      "outputs": [],
      "source": [
        "class BankAccount:\n",
        "    def __init__(self, name, balance):\n",
        "        self.name = name\n",
        "        self.balance = balance\n",
        "\n",
        "    def userName(self):\n",
        "        return self.name\n",
        "\n",
        "    def userBalance(self):\n",
        "        return self.balance\n",
        "\n",
        "    def userDeposit(self, jumlah):\n",
        "        self.balance += jumlah\n",
        "        print(f\"Transaksi deposit {jumlah} berhasil dilakukan, jumlah saldo sekarang: {self.balance}\")\n",
        "\n",
        "    def userWithdraw(self, jumlah):\n",
        "        if jumlah <= self.balance:\n",
        "            self.balance -= jumlah\n",
        "            print(f\"Transaksi penarikan {jumlah} berhasil, sisa saldo: {self.balance}\")\n",
        "        else:\n",
        "            print(\"Saldo tidak cukup\")\n"
      ]
    },
    {
      "cell_type": "code",
      "source": [
        "user1 = BankAccount(\"Hikaru\", 750)\n",
        "print(user1.userName())  # Output: Hikaru\n",
        "print(user1.userBalance())  # Output: 750\n",
        "\n",
        "user1.userDeposit(50)  # Deposit 50 to user1\n",
        "user1.userWithdraw(800)  # Attempt to withdraw 800 from user1\n",
        "user1.userWithdraw(300)  # Withdraw 300 from user1\n",
        "\n",
        "user2 = BankAccount('Nakamura', 0)\n",
        "print(user2.userBalance())  # Output: 0"
      ],
      "metadata": {
        "colab": {
          "base_uri": "https://localhost:8080/"
        },
        "id": "Z-XUwZ4wJJ6e",
        "outputId": "81606dfe-57e5-465a-81ea-4f6a71c8298a"
      },
      "execution_count": null,
      "outputs": [
        {
          "output_type": "stream",
          "name": "stdout",
          "text": [
            "Hikaru\n",
            "750\n",
            "Transaksi deposit 50 berhasil dilakukan, jumlah saldo sekarang: 800\n",
            "Transaksi penarikan 800 berhasil, sisa saldo: 0\n",
            "Saldo tidak cukup\n",
            "0\n"
          ]
        }
      ]
    }
  ]
}